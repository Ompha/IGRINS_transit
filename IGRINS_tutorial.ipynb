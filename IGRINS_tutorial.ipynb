{
 "cells": [
  {
   "cell_type": "markdown",
   "id": "06fc98df",
   "metadata": {},
   "source": [
    "# IGRINS Data Reduction: Raw Data to PCA"
   ]
  },
  {
   "cell_type": "markdown",
   "id": "5a6d53f2",
   "metadata": {},
   "source": [
    "## Full tutorial based on the IGRINS_transit code found at https://github.com/meganmansfield/IGRINS_transit\n",
    "### This code is currently under heavy development, but the tutorial included here, which can also be found on the GitHub page, will take you from raw data to a principal component analysis. Future updates will include cross-correlation analysis. This tutorial follows the process outlined in run_pipeline.py\n",
    "### NOTE: This tutorial is based on as-yet-unpublished data. Please do not share the data/results without permission.\n",
    "### First, let's load the analysis packages"
   ]
  },
  {
   "cell_type": "code",
   "execution_count": null,
   "id": "14b3e1a9",
   "metadata": {},
   "outputs": [],
   "source": [
    "import numpy as np\n",
    "import make_cube #makes the data cube and calculates barycentric velocity\n",
    "import wavecal #performs wavelength calibration\n",
    "import do_pca #performs principal component analysis"
   ]
  },
  {
   "cell_type": "markdown",
   "id": "12b7176c",
   "metadata": {},
   "source": [
    "### Now feed the code all the important parameters."
   ]
  },
  {
   "cell_type": "code",
   "execution_count": null,
   "id": "cf37e977",
   "metadata": {},
   "outputs": [],
   "source": [
    "path='/Users/megan/Documents/Projects/GeminiTransitSurvey/WASP76/20211029/reduced/' #path to the reduced data provided by the IGRINS pipeline package (PLP)\n",
    "date='20211029' #date of the observations (just used to name folders)\n",
    "Tprimary_UT='2021-10-30T04:20:00.000' #time of primary transit, which can be found using the Transit and Ephemeris Service tool at https://exoplanetarchive.ipac.caltech.edu/\n",
    "Per=1.809886 #in days, also from Exoplanet Archive or your favorite planet lookup service\n",
    "radeg=26.6329167 #in degrees\n",
    "decdeg=2.7003889 #in degrees\n",
    "#note that RA and Dec must be in degrees; here's a helpful converter: http://www.astrouw.edu.pl/~jskowron/ra-dec/\n",
    "skyorder=1 #set to 1 if the sky frame was observed at the start of the night and 2 if the sky frame was observed at the end of the night\n",
    "Vsys=-1.109 #Systemic radial velocity in km/s, listed as \"gamma\" on the Exoplanet Archive"
   ]
  },
  {
   "cell_type": "markdown",
   "id": "95e192ee",
   "metadata": {},
   "source": [
    "### Now we'll set a couple parameters for trimming the data. I usually start with keeping as much data as possible and looking at the SNR before throwing any out."
   ]
  },
  {
   "cell_type": "code",
   "execution_count": null,
   "id": "6cc353b1",
   "metadata": {},
   "outputs": [],
   "source": [
    "badorders=np.array([]) #set which orders will get ignored. Lower numbers are at the red end of the spectrum, and IGRINS has 54 orders\n",
    "trimedges=np.array([100,-100]) #set how many points will get trimmed off the edges of each order: fist number is blue edge, second number is red edge"
   ]
  },
  {
   "cell_type": "markdown",
   "id": "21fd70ea",
   "metadata": {},
   "source": [
    "### Now we're ready to make our data cube! This function will take in the raw data files and output a cube of data organized by order x file (phase of orbit) x pixels. It also outputs the observed phases and barycentric velocity at each exposure time."
   ]
  },
  {
   "cell_type": "code",
   "execution_count": null,
   "id": "34779f31",
   "metadata": {},
   "outputs": [],
   "source": [
    "phi,Vbary,grid_RAW,data_RAW,wlgrid,data=make_cube.make_cube(path,date,Tprimary_UT,Per,radeg,decdeg,skyorder,badorders,trimedges,plot=True,output=False,testorders=True)\n",
    "#testorders=True will output some information on the SNR of all the orders.\n",
    "#plot=True will plot the SNR over each order\n",
    "#output=True will save 3 pickle files for future data processing (not necessary if you stay within this pipeline, but useful if you want to port information to your own data analysis process):\n",
    "#phi.pic has observed phases\n",
    "#Vbary.pic has barycentric velocities\n",
    "#data_raw_OBSDATE.pic has [wavelength grid, raw data (no orders removed), skyorder parameter]"
   ]
  },
  {
   "cell_type": "markdown",
   "id": "a3c59354",
   "metadata": {},
   "source": [
    "### Now we have to perform a wavelength calibration. The function here just assumes the image taken closest to the sky calibration has \"true\" wavelengths and does a simple shift/stretch to fit each subsequent spectrum to the template spectrum."
   ]
  },
  {
   "cell_type": "code",
   "execution_count": null,
   "id": "9b58d17b",
   "metadata": {},
   "outputs": [],
   "source": [
    "wlgrid,wavecorrect=wavecal.correct(wlgrid,data,skyorder,plot=True,output=False)\n",
    "#plot=True will plot a zoom-in on one of the orders so you can see the results of the wavelength calibration and check them by eye\n",
    "#output=True will save a file called wavelengthcalibrated.pic that contains [wavelength array, wavelength calibrated data cube]"
   ]
  },
  {
   "cell_type": "markdown",
   "id": "8e00cee3",
   "metadata": {},
   "source": [
    "### Now we can perform a principal component analysis! "
   ]
  },
  {
   "cell_type": "code",
   "execution_count": null,
   "id": "a2bb6ab6",
   "metadata": {},
   "outputs": [],
   "source": [
    "nPCAs=3 #number of principal components to subtract (or maximum value for test_pca)\n",
    "wlgrid,pca_clean_data,pca_noplanet=do_pca.do_pca(wlgrid,wavecorrect,nPCAs,test_pca=True,plot=True,output=False)\n",
    "#test_pca=True will go through removing every number of PCs from 1 to nPCAs, plotting the cleaned results each time\n",
    "#plot=True will show a plot comparing the raw data, data with 1 PC removed, and data with nPCAs removed\n",
    "#output=True will save two pickle files:\n",
    "#PCA_n_clean_data.pic contains [wavelength array, cleaned data] where cleaned data have n PCs removed\n",
    "#PCA_n_noise.pic contains [wavelength array, removed noise] where removed noise is all the signal contained in the first n PCs"
   ]
  },
  {
   "cell_type": "code",
   "execution_count": null,
   "id": "1851177c",
   "metadata": {},
   "outputs": [],
   "source": []
  }
 ],
 "metadata": {
  "kernelspec": {
   "display_name": "Python 3",
   "language": "python",
   "name": "python3"
  },
  "language_info": {
   "codemirror_mode": {
    "name": "ipython",
    "version": 3
   },
   "file_extension": ".py",
   "mimetype": "text/x-python",
   "name": "python",
   "nbconvert_exporter": "python",
   "pygments_lexer": "ipython3",
   "version": "3.7.6"
  }
 },
 "nbformat": 4,
 "nbformat_minor": 5
}
